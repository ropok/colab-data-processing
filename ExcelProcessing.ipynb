{
  "nbformat": 4,
  "nbformat_minor": 0,
  "metadata": {
    "colab": {
      "provenance": [],
      "authorship_tag": "ABX9TyNUirps9YaRtwQ45xLOehxt",
      "include_colab_link": true
    },
    "kernelspec": {
      "name": "python3",
      "display_name": "Python 3"
    },
    "language_info": {
      "name": "python"
    }
  },
  "cells": [
    {
      "cell_type": "markdown",
      "metadata": {
        "id": "view-in-github",
        "colab_type": "text"
      },
      "source": [
        "<a href=\"https://colab.research.google.com/github/ropok/colab-data-processing/blob/feature%2Fexcel-converter/ExcelProcessing.ipynb\" target=\"_parent\"><img src=\"https://colab.research.google.com/assets/colab-badge.svg\" alt=\"Open In Colab\"/></a>"
      ]
    },
    {
      "cell_type": "markdown",
      "source": [
        "# Test"
      ],
      "metadata": {
        "id": "iuKU3G9UKSmr"
      }
    },
    {
      "cell_type": "code",
      "execution_count": 1,
      "metadata": {
        "colab": {
          "base_uri": "https://localhost:8080/"
        },
        "id": "gOc8SXiOJ-gj",
        "outputId": "d3d7a49b-0079-4fe8-da0e-7a5ed1f00355"
      },
      "outputs": [
        {
          "output_type": "stream",
          "name": "stdout",
          "text": [
            "hello\n"
          ]
        }
      ],
      "source": [
        "# Test\n",
        "print('hello')"
      ]
    },
    {
      "cell_type": "code",
      "source": [
        "import openpyxl"
      ],
      "metadata": {
        "id": "6SaJwjYyIpdU"
      },
      "execution_count": 4,
      "outputs": []
    },
    {
      "cell_type": "code",
      "source": [
        "wb = openpyxl.load_workbook('Book1.xlsx')\n",
        "ws = wb['Sheet1']\n",
        "\n",
        "comparison = \"\"\n",
        "output = list()\n",
        "outputText = []\n",
        "test = []\n",
        "\n",
        "for i in range(2,ws.max_row+1):\n",
        "  valueI = str(ws.cell(i,2).value)\n",
        "  if valueI != \"None\":\n",
        "    output.append(\",\".join(outputText))\n",
        "    outputText = []\n",
        "  for j in range(1,ws.max_column+1):\n",
        "    value = str(ws.cell(i,j).value)\n",
        "    if j >= 3:\n",
        "      outputText.append(value)\n",
        "\n",
        "\n",
        "\n",
        "    # if j == 2 and value != None:\n",
        "    #   comparison = value\n",
        "    #   print(comparison)\n",
        "    # if j >=3:\n",
        "\n",
        "print(output)\n",
        "for i in output:\n",
        "  print(i)"
      ],
      "metadata": {
        "id": "KKy49Vr1IvBb",
        "outputId": "1f3542c7-502e-46ab-c8a8-0299083de5cd",
        "colab": {
          "base_uri": "https://localhost:8080/"
        }
      },
      "execution_count": 45,
      "outputs": [
        {
          "output_type": "stream",
          "name": "stdout",
          "text": [
            "['', 'P029569,FACIAL TISSUE LIVI,0.04', 'P012722,SPONGE FOR PHYSIOVAC EXPERT,0.000185', 'P014807,POLITEX  KAIN SPON (Sponge Cloth),0.5', 'P029569,FACIAL TISSUE LIVI,0.04', 'P012722,SPONGE FOR PHYSIOVAC EXPERT,0.000185']\n",
            "\n",
            "P029569,FACIAL TISSUE LIVI,0.04\n",
            "P012722,SPONGE FOR PHYSIOVAC EXPERT,0.000185\n",
            "P014807,POLITEX  KAIN SPON (Sponge Cloth),0.5\n",
            "P029569,FACIAL TISSUE LIVI,0.04\n",
            "P012722,SPONGE FOR PHYSIOVAC EXPERT,0.000185\n"
          ]
        }
      ]
    }
  ]
}